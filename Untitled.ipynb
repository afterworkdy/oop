{
 "cells": [
  {
   "cell_type": "markdown",
   "id": "0d133b38",
   "metadata": {},
   "source": [
    "# requests module test"
   ]
  },
  {
   "cell_type": "code",
   "execution_count": 12,
   "id": "b610d970",
   "metadata": {},
   "outputs": [
    {
     "data": {
      "text/plain": [
       "<Response [200]>"
      ]
     },
     "execution_count": 12,
     "metadata": {},
     "output_type": "execute_result"
    }
   ],
   "source": [
    "import requests\n",
    "\n",
    "res = requests.get(\"http://api.openweathermap.org/geo/1.0/direct?q=안양,kr&appid=555e77f38f5b28cf6481409e56f93ad4\")\n",
    "res"
   ]
  },
  {
   "cell_type": "code",
   "execution_count": 13,
   "id": "44468056",
   "metadata": {},
   "outputs": [
    {
     "data": {
      "text/plain": [
       "200"
      ]
     },
     "execution_count": 13,
     "metadata": {},
     "output_type": "execute_result"
    }
   ],
   "source": [
    "res.status_code"
   ]
  },
  {
   "cell_type": "code",
   "execution_count": 14,
   "id": "5bdda2a0",
   "metadata": {},
   "outputs": [
    {
     "data": {
      "text/plain": [
       "b'[{\"name\":\"Anyang-si\",\"local_names\":{\"en\":\"Anyang-si\",\"et\":\"Anyang\",\"ja\":\"\\xe5\\xae\\x89\\xe9\\xa4\\x8a\\xe5\\xb8\\x82\",\"fr\":\"Anyang\",\"feature_name\":\"Anyang\",\"es\":\"Anyang\",\"de\":\"Anyang\",\"zh\":\"\\xe5\\xae\\x89\\xe5\\x85\\xbb\\xe5\\xb8\\x82\",\"ko\":\"\\xec\\x95\\x88\\xec\\x96\\x91\\xec\\x8b\\x9c\",\"ca\":\"Anyang\",\"lt\":\"Anjangas\",\"ascii\":\"Anyang\"},\"lat\":37.3938528,\"lon\":126.9570605,\"country\":\"KR\"}]'"
      ]
     },
     "execution_count": 14,
     "metadata": {},
     "output_type": "execute_result"
    }
   ],
   "source": [
    "res.content"
   ]
  }
 ],
 "metadata": {
  "kernelspec": {
   "display_name": "Python 3 (ipykernel)",
   "language": "python",
   "name": "python3"
  },
  "language_info": {
   "codemirror_mode": {
    "name": "ipython",
    "version": 3
   },
   "file_extension": ".py",
   "mimetype": "text/x-python",
   "name": "python",
   "nbconvert_exporter": "python",
   "pygments_lexer": "ipython3",
   "version": "3.10.9"
  }
 },
 "nbformat": 4,
 "nbformat_minor": 5
}
