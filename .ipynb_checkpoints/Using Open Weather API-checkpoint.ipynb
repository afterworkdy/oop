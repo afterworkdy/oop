{
 "cells": [
  {
   "cell_type": "markdown",
   "id": "0d133b38",
   "metadata": {},
   "source": [
    "# requests module test"
   ]
  },
  {
   "cell_type": "code",
   "execution_count": 5,
   "id": "b610d970",
   "metadata": {},
   "outputs": [
    {
     "data": {
      "text/plain": [
       "<Response [200]>"
      ]
     },
     "execution_count": 5,
     "metadata": {},
     "output_type": "execute_result"
    }
   ],
   "source": [
    "import requests     # request module을 import\n",
    "\n",
    "res = requests.get(\"http://api.openweathermap.org/geo/1.0/direct?q=안양,kr&appid=555e77f38f5b28cf6481409e56f93ad4\")\n",
    "res"
   ]
  },
  {
   "cell_type": "code",
   "execution_count": 6,
   "id": "9f7f76e8",
   "metadata": {},
   "outputs": [
    {
     "data": {
      "text/plain": [
       "200"
      ]
     },
     "execution_count": 6,
     "metadata": {},
     "output_type": "execute_result"
    }
   ],
   "source": [
    "res.status_code"
   ]
  },
  {
   "cell_type": "code",
   "execution_count": 7,
   "id": "09e485ac",
   "metadata": {},
   "outputs": [
    {
     "data": {
      "text/plain": [
       "b'[{\"name\":\"Anyang-si\",\"local_names\":{\"zh\":\"\\xe5\\xae\\x89\\xe5\\x85\\xbb\\xe5\\xb8\\x82\",\"ko\":\"\\xec\\x95\\x88\\xec\\x96\\x91\\xec\\x8b\\x9c\",\"ca\":\"Anyang\",\"ascii\":\"Anyang\",\"en\":\"Anyang-si\",\"de\":\"Anyang\",\"et\":\"Anyang\",\"ja\":\"\\xe5\\xae\\x89\\xe9\\xa4\\x8a\\xe5\\xb8\\x82\",\"fr\":\"Anyang\",\"lt\":\"Anjangas\",\"feature_name\":\"Anyang\",\"es\":\"Anyang\"},\"lat\":37.3938528,\"lon\":126.9570605,\"country\":\"KR\"}]'"
      ]
     },
     "execution_count": 7,
     "metadata": {},
     "output_type": "execute_result"
    }
   ],
   "source": [
    "res.content"
   ]
  },
  {
   "cell_type": "code",
   "execution_count": 11,
   "id": "61501368",
   "metadata": {},
   "outputs": [
    {
     "data": {
      "text/plain": [
       "91"
      ]
     },
     "execution_count": 11,
     "metadata": {},
     "output_type": "execute_result"
    }
   ],
   "source": [
    "res.content"
   ]
  },
  {
   "cell_type": "code",
   "execution_count": 19,
   "id": "5bc381ec",
   "metadata": {},
   "outputs": [
    {
     "data": {
      "text/plain": [
       "[{'name': 'Anyang-si',\n",
       "  'local_names': {'zh': '安养市',\n",
       "   'ko': '안양시',\n",
       "   'ca': 'Anyang',\n",
       "   'ascii': 'Anyang',\n",
       "   'en': 'Anyang-si',\n",
       "   'de': 'Anyang',\n",
       "   'et': 'Anyang',\n",
       "   'ja': '安養市',\n",
       "   'fr': 'Anyang',\n",
       "   'lt': 'Anjangas',\n",
       "   'feature_name': 'Anyang',\n",
       "   'es': 'Anyang'},\n",
       "  'lat': 37.3938528,\n",
       "  'lon': 126.9570605,\n",
       "  'country': 'KR'}]"
      ]
     },
     "execution_count": 19,
     "metadata": {},
     "output_type": "execute_result"
    }
   ],
   "source": [
    "import json\n",
    "info = json.loads(res.content)\n",
    "info"
   ]
  },
  {
   "cell_type": "code",
   "execution_count": 22,
   "id": "7ba0e194",
   "metadata": {},
   "outputs": [
    {
     "data": {
      "text/plain": [
       "'안양시'"
      ]
     },
     "execution_count": 22,
     "metadata": {},
     "output_type": "execute_result"
    }
   ],
   "source": [
    "info[0]['local_names']['ko']"
   ]
  },
  {
   "cell_type": "code",
   "execution_count": 24,
   "id": "54bd7d57",
   "metadata": {
    "scrolled": true
   },
   "outputs": [
    {
     "data": {
      "text/plain": [
       "37.3938528"
      ]
     },
     "execution_count": 24,
     "metadata": {},
     "output_type": "execute_result"
    }
   ],
   "source": [
    "info[0]['lat']"
   ]
  },
  {
   "cell_type": "code",
   "execution_count": 23,
   "id": "9aa3be8f",
   "metadata": {},
   "outputs": [
    {
     "data": {
      "text/plain": [
       "126.9570605"
      ]
     },
     "execution_count": 23,
     "metadata": {},
     "output_type": "execute_result"
    }
   ],
   "source": [
    "info[0]['lon']"
   ]
  },
  {
   "cell_type": "code",
   "execution_count": null,
   "id": "7f2d1193",
   "metadata": {},
   "outputs": [],
   "source": []
  }
 ],
 "metadata": {
  "kernelspec": {
   "display_name": "Python 3 (ipykernel)",
   "language": "python",
   "name": "python3"
  },
  "language_info": {
   "codemirror_mode": {
    "name": "ipython",
    "version": 3
   },
   "file_extension": ".py",
   "mimetype": "text/x-python",
   "name": "python",
   "nbconvert_exporter": "python",
   "pygments_lexer": "ipython3",
   "version": "3.10.9"
  }
 },
 "nbformat": 4,
 "nbformat_minor": 5
}
